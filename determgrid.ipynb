{
 "cells": [
  {
   "cell_type": "markdown",
   "metadata": {},
   "source": [
    "# Rejilla de ocupación determinística\n",
    "## Robótica Móvil\n",
    "### Dr. Juan Pablo Ramírez Paredes\n",
    "\n",
    "En este ejemplo, se detallará cómo utilizando un algoritmo de procesamiento de imágenes podemos crear un mapa con la técnica de rejilla de ocupación (determinística).\n",
    "\n",
    "### Repaso: creación de rejilla\n",
    "\n",
    "Suponiendo que conocemos la coordenada de un punto en el mundo, para una rejilla con celdas de lado tamaño $s$ y con $N \\times N$ celdas ($N$ par) las coordenadas de la celda que contiene al punto son\n",
    "\n",
    "$$ x_r = \\frac{N}{2} + \\left \\lceil \\frac{x}{s} \\right \\rceil  $$\n",
    "$$ y_r = \\frac{N}{2} - \\left \\lceil \\frac{y}{s} \\right \\rceil + 1  $$\n"
   ]
  },
  {
   "cell_type": "code",
   "execution_count": 1,
   "metadata": {},
   "outputs": [],
   "source": [
    "# Importamos todo lo que necesitaremos en este notebook\n",
    "import matplotlib.pyplot as plt\n",
    "import skimage.draw as skd # Esto es nuevo, es el módulo draw de scikit-image\n",
    "import numpy as np\n",
    "import math as m\n",
    "\n",
    "def w2g(x, y, N, s):\n",
    "    \"\"\" Esta función implementa las ecuaciones antes descritas \"\"\"\n",
    "    xr = N//2 + m.ceil(x/s)\n",
    "    yr = N//2 - m.ceil(y/s) + 1\n",
    "    return xr-1, yr-1 # Restamos uno porque los índices en Python inician en cero"
   ]
  },
  {
   "cell_type": "markdown",
   "metadata": {},
   "source": [
    "Vamos a simular un escenario donde conocemos (a) dónde está el robot y (b) en dónde se encuentra en el mundo un obstáculo. Suponemos que el obstáculo es un punto para simular que el sensor tiene un ángulo de detección muy estrecho.\n",
    "\n",
    "Denominaremos $(x_{obs}, y_{obs})$ a las coordenadas del obstáculo en el mundo, y $(x_{robot}, y_{robot})$ a las del robot. Entonces, nos interesa marcar las celdas que se encuentran en línea recta entre ambos puntos como *libres*. \n",
    "\n",
    "Construiremos una rejilla con $N=16$ celdas por lado y $s=0.25$ m de longitud por cada lado de la celda. La rejilla \"grid\" será una matriz de Numpy. Como vamos a graficarla como imagen, la haremos blanca para dibujar el área sin obstáculos de gris. En una imagen digital en niveles de gris, el 0 es negro y un nivel de 255 (el máximo) es blanco.\n",
    "\n",
    "Procedamos a encontrar las coordenadas en la rejilla de ocupación del robot y del obstáculo. Las coordenadas en el mundo se generarán al azar en el intervalo $[-2, 2]$ para los dos objetos, tanto en X como en Y."
   ]
  },
  {
   "cell_type": "code",
   "execution_count": 2,
   "metadata": {},
   "outputs": [
    {
     "name": "stdout",
     "output_type": "stream",
     "text": [
      "Coordenadas del robot (0.06097707017949716, 0.5526696081130864)\n",
      "Celda del robot en el mapa (renglon, columna) = (5, 8)\n",
      "Coordenadas del robot (-0.8252722564969797, -0.834243032490714)\n",
      "Celda del robot en el mapa (renglon, columna) = (11, 4)\n"
     ]
    }
   ],
   "source": [
    "N = 16\n",
    "s = 0.25\n",
    "grid = 255*np.ones((N,N))\n",
    "\n",
    "x_obs = 4.0*(np.random.random()-0.5)\n",
    "y_obs = 4.0*(np.random.random()-0.5)\n",
    "\n",
    "x_robot = 4.0*(np.random.random()-0.5)\n",
    "y_robot = 4.0*(np.random.random()-0.5)\n",
    "\n",
    "xr_robot, yr_robot = w2g(x_robot, y_robot, N, s)\n",
    "xr_obs, yr_obs = w2g(x_obs, y_obs, N, s)\n",
    "\n",
    "print(\"Coordenadas del robot ({}, {})\".format(x_robot, y_robot))\n",
    "print(\"Celda del robot en el mapa (renglon, columna) = ({}, {})\".format(yr_robot, xr_robot))\n",
    "\n",
    "print(\"Coordenadas del robot ({}, {})\".format(x_obs, y_obs))\n",
    "print(\"Celda del robot en el mapa (renglon, columna) = ({}, {})\".format(yr_obs, xr_obs))"
   ]
  },
  {
   "cell_type": "markdown",
   "metadata": {},
   "source": [
    "Para dibujar una línea entre dos celdas de una matriz o imagen digital, se utiliza el [algoritmo de Bresenham](https://en.wikipedia.org/wiki/Bresenham%27s_line_algorithm). Una implementación que se incluye con Anaconda es la del paquete scikit-image en su módulo **draw**. Esta implementación regresa dos valores: una lista de Python con los renglones de los puntos por los que pasa la línea, y otra lista con las columnas.\n",
    "\n",
    "Invocamos a continuación esta función para obtener las coordenadas de las celdas por las que pasa la línea, y hacemos que las celdas del mapa tomen el valor 128 (tono gris intermedio)."
   ]
  },
  {
   "cell_type": "code",
   "execution_count": 3,
   "metadata": {},
   "outputs": [],
   "source": [
    "rr, cc = skd.line(yr_robot, xr_robot, yr_obs, xr_obs)\n",
    "grid[rr, cc] = 128"
   ]
  },
  {
   "cell_type": "markdown",
   "metadata": {},
   "source": [
    "Por último, graficamos todo utilizando la biblioteca Matplotlib. En azul tendremos la ubicación del obstáculo, en rojo la del robot y debemos ver que todas las celdas del mapa entre ambos objetos se dibujen en gris, representando que no hay obstáculos en esa región."
   ]
  },
  {
   "cell_type": "code",
   "execution_count": 4,
   "metadata": {},
   "outputs": [
    {
     "data": {
      "image/png": "[encoded data removed]",
      "text/plain": [
       "<Figure size 432x288 with 1 Axes>"
      ]
     },
     "metadata": {
      "needs_background": "light"
     },
     "output_type": "display_data"
    }
   ],
   "source": [
    "plt.plot(x_obs, y_obs, '.', color='b')\n",
    "plt.plot(x_robot, y_robot, '.', color='r')\n",
    "\n",
    "\n",
    "\n",
    "plt.imshow(grid, cmap='gray', vmin=0, vmax=255, extent=[-2,2,-2,2])\n",
    "ax = plt.gca()\n",
    "yticks = np.linspace(-2,2,17)\n",
    "xticks = np.linspace(-2,2,17)\n",
    "ax.set_xticks(xticks)\n",
    "ax.set_yticks(yticks)\n",
    "plt.grid(True)\n",
    "\n",
    "\n",
    "plt.show()"
   ]
  },
  {
   "cell_type": "code",
   "execution_count": null,
   "metadata": {},
   "outputs": [],
   "source": []
  }
 ],
 "metadata": {
  "kernelspec": {
   "display_name": "Python 3",
   "language": "python",
   "name": "python3"
  },
  "language_info": {
   "codemirror_mode": {
    "name": "ipython",
    "version": 3
   },
   "file_extension": ".py",
   "mimetype": "text/x-python",
   "name": "python",
   "nbconvert_exporter": "python",
   "pygments_lexer": "ipython3",
   "version": "3.7.3"
  }
 },
 "nbformat": 4,
 "nbformat_minor": 2
}
